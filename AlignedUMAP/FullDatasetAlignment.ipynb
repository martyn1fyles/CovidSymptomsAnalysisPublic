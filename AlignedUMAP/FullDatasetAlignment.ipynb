{
    "cells": [
        {
            "cell_type": "code",
            "execution_count": 91,
            "metadata": {},
            "outputs": [],
            "source": [
                "import umap\n",
                "import numpy as np\n",
                "import matplotlib.pyplot as plt\n",
                "import pandas as pd"
            ]
        },
        {
            "cell_type": "markdown",
            "metadata": {},
            "source": [
                "Importing the data"
            ]
        },
        {
            "cell_type": "code",
            "execution_count": 92,
            "metadata": {},
            "outputs": [],
            "source": [
                "p2 = pd.read_csv('Data/TTI_Pillar2/DistanceMatrixJaccardOriginPillar2.csv')\n",
                "sgss = pd.read_csv('Data/TTI_SGSS/DistanceMatrixJaccardOriginSGSS.csv')\n",
                "css = pd.read_csv('Data/CovidSymptomStudy/JaccardSymptomWide.csv')\n",
                "cis = pd.read_csv('Data/CommunityInfectionSurvey/DistanceMatrixJaccard.csv')"
            ]
        },
        {
            "cell_type": "markdown",
            "metadata": {},
            "source": [
                "Name the first column as the symptom columnm."
            ]
        },
        {
            "cell_type": "code",
            "execution_count": 93,
            "metadata": {},
            "outputs": [],
            "source": [
                "p2 = p2.rename({p2.columns[0]: 'symptom'}, axis='columns')\n",
                "sgss = sgss.rename({sgss.columns[0]: 'symptom'}, axis='columns')\n",
                "css = css.rename({css.columns[0]: 'symptom'}, axis='columns')\n",
                "cis = cis.rename({cis.columns[0]: 'symptom'}, axis='columns')"
            ]
        },
        {
            "cell_type": "markdown",
            "metadata": {},
            "source": [
                "Extract the jaccard distance matrices"
            ]
        },
        {
            "cell_type": "code",
            "execution_count": 94,
            "metadata": {},
            "outputs": [],
            "source": [
                "p2_jaccard = p2.loc[:, p2.columns != 'symptom'].values\n",
                "sgss_jaccard = sgss.loc[:, sgss.columns != 'symptom'].values\n",
                "css_jaccard = css.loc[:, css.columns != 'symptom'].values\n",
                "cis_jaccard = cis.loc[:, cis.columns != 'symptom'].values"
            ]
        },
        {
            "cell_type": "markdown",
            "metadata": {},
            "source": [
                "Extract the symptom names"
            ]
        },
        {
            "cell_type": "code",
            "execution_count": 95,
            "metadata": {},
            "outputs": [],
            "source": [
                "p2_symptoms = p2.loc[:, p2.columns == 'symptom']\n",
                "sgss_symptoms = sgss.loc[:, sgss.columns == 'symptom']\n",
                "css_symptoms = css.loc[:, css.columns == 'symptom']\n",
                "cis_symptoms = cis.loc[:, cis.columns == 'symptom']"
            ]
        },
        {
            "cell_type": "markdown",
            "metadata": {},
            "source": [
                "Each dataset stores the variables with slightly different names. We can join the the symptom_name_category lookup table to get a standardised naming convention for symptoms."
            ]
        },
        {
            "cell_type": "code",
            "execution_count": 96,
            "metadata": {},
            "outputs": [],
            "source": [
                "symptom_name_category_lookup = pd.read_csv('Data/Lookups/SymptomNameCategoryLookup.csv')"
            ]
        },
        {
            "cell_type": "markdown",
            "metadata": {},
            "source": [
                "We need to subset the lookup to get appropiate lookups for each dataset."
            ]
        },
        {
            "cell_type": "code",
            "execution_count": 97,
            "metadata": {},
            "outputs": [],
            "source": [
                "ctas_lookup = symptom_name_category_lookup[symptom_name_category_lookup.dataset == 'CTAS']\n",
                "css_lookup = symptom_name_category_lookup[symptom_name_category_lookup.dataset == 'Zoe']\n",
                "cis_lookup = symptom_name_category_lookup[symptom_name_category_lookup.dataset == 'ONS']"
            ]
        },
        {
            "cell_type": "markdown",
            "metadata": {},
            "source": [
                "Join the symptoms to create lookup, and retain only the useful data"
            ]
        },
        {
            "cell_type": "code",
            "execution_count": 98,
            "metadata": {},
            "outputs": [],
            "source": [
                "p2_symptoms = pd.merge(left = p2_symptoms, right = ctas_lookup, left_on = 'symptom', right_on='symptom_name_raw')[['symptom', 'symptom_id', 'symptom_name_formatted', 'category']]\n",
                "sgss_symptoms = pd.merge(left = sgss_symptoms, right = ctas_lookup, left_on = 'symptom', right_on='symptom_name_raw')[['symptom', 'symptom_id', 'symptom_name_formatted', 'category']]\n",
                "css_symptoms = pd.merge(left = css_symptoms, right = css_lookup, left_on = 'symptom', right_on='symptom_name_raw')[['symptom', 'symptom_id', 'symptom_name_formatted', 'category']]\n",
                "cis_symptoms = pd.merge(left = cis_symptoms, right = cis_lookup, left_on = 'symptom', right_on='symptom_name_raw')[['symptom', 'symptom_id', 'symptom_name_formatted', 'category']]"
            ]
        },
        {
            "cell_type": "markdown",
            "metadata": {},
            "source": [
                "Create a list containing a list of all the symptom_id's in each datset, and then work out which symptom id's are common across all datasets."
            ]
        },
        {
            "cell_type": "code",
            "execution_count": 99,
            "metadata": {},
            "outputs": [
                {
                    "data": {
                        "text/plain": [
                            "array(['Cough', 'Diarrhoea', 'Fatigue', 'Fever', 'Headache',\n",
                            "       'Muscle ache', 'Sore throat'], dtype=object)"
                        ]
                    },
                    "execution_count": 99,
                    "metadata": {},
                    "output_type": "execute_result"
                }
            ],
            "source": [
                "symptom_ids = [\n",
                "    p2_symptoms.symptom_name_formatted.values,\n",
                "    sgss_symptoms.symptom_name_formatted.values,\n",
                "    css_symptoms.symptom_name_formatted.values,\n",
                "    cis_symptoms.symptom_name_formatted.values\n",
                "]\n",
                "\n",
                "shared_ids = symptom_ids[0]\n",
                "for id_set in symptom_ids:\n",
                "    shared_ids = np.intersect1d(shared_ids, id_set)\n",
                "\n",
                "shared_ids"
            ]
        },
        {
            "cell_type": "markdown",
            "metadata": {},
            "source": [
                "Create a utlity function that produces the mapping between symptoms in different datasets."
            ]
        },
        {
            "cell_type": "code",
            "execution_count": 100,
            "metadata": {},
            "outputs": [],
            "source": [
                "def map_symptoms(vector_from, vector_to):\n",
                "    \n",
                "    mapping = {}\n",
                "\n",
                "    for num_from, symptom_id_from in enumerate(vector_from.symptom_name_formatted.values):\n",
                "        if symptom_id_from in shared_ids:\n",
                "            for num_to, symptom_id_to in enumerate(vector_to.symptom_name_formatted.values):\n",
                "                if symptom_id_to == symptom_id_from:\n",
                "                    mapping[num_from] = num_to\n",
                "\n",
                "    return mapping"
            ]
        },
        {
            "cell_type": "markdown",
            "metadata": {},
            "source": [
                "Specify a sequence of datasets, and then create a list of mappings between those datasets."
            ]
        },
        {
            "cell_type": "code",
            "execution_count": 101,
            "metadata": {},
            "outputs": [],
            "source": [
                "distance_matrix_list = [p2_jaccard, sgss_jaccard, css_jaccard, cis_jaccard]\n",
                "relation_dict_list = [map_symptoms(p2_symptoms, sgss_symptoms), map_symptoms(sgss_symptoms, css_symptoms), map_symptoms(css_symptoms, cis_symptoms)]"
            ]
        },
        {
            "cell_type": "markdown",
            "metadata": {},
            "source": [
                "Perform the alignment"
            ]
        },
        {
            "cell_type": "code",
            "execution_count": 102,
            "metadata": {},
            "outputs": [
                {
                    "data": {
                        "text/plain": [
                            "AlignedUMAP(alignment_window_size=4, learning_rate=0.1, metric='precomputed',\n",
                            "            min_dist=0.01, n_neighbors=[4, 4, 4, 4], random_state=42)"
                        ]
                    },
                    "execution_count": 102,
                    "metadata": {},
                    "output_type": "execute_result"
                }
            ],
            "source": [
                "aligned_mapper = umap.AlignedUMAP(\n",
                "    n_neighbors=[4]*4,\n",
                "    min_dist = 0.01,\n",
                "    n_components = 2,\n",
                "    alignment_window_size=4,\n",
                "    alignment_regularisation=1e-2,\n",
                "    learning_rate = 0.1,\n",
                "    random_state=42,\n",
                "    metric='precomputed')\n",
                "\n",
                "# perform the alignment\n",
                "aligned_mapper.fit(distance_matrix_list, relations = relation_dict_list)"
            ]
        },
        {
            "cell_type": "code",
            "execution_count": 103,
            "metadata": {},
            "outputs": [],
            "source": [
                "# utility function to find create some useable axis\n",
                "def axis_bounds(embedding):\n",
                "    \n",
                "    left, right = embedding.T[0].min(), embedding.T[0].max()\n",
                "    bottom, top = embedding.T[1].min(), embedding.T[1].max()\n",
                "    adj_h, adj_v = (right - left) * 0.1, (top - bottom) * 0.1\n",
                "    return [left - adj_h, right + adj_h, bottom - adj_v, top + adj_v]"
            ]
        },
        {
            "cell_type": "markdown",
            "metadata": {},
            "source": [
                "Quickly plot the output. We have more advanced plotting code in the R visualisation notebooks that plot points and labels using size and colour, etc."
            ]
        },
        {
            "cell_type": "code",
            "execution_count": 104,
            "metadata": {},
            "outputs": [
                {
                    "data": {
                        "image/png": "[encoded data removed]",
                        "text/plain": [
                            "<Figure size 1000x1000 with 4 Axes>"
                        ]
                    },
                    "metadata": {},
                    "output_type": "display_data"
                }
            ],
            "source": [
                "fig, axs = plt.subplots(2, 2, figsize=(10, 10))\n",
                "ax_bound = axis_bounds(np.vstack(aligned_mapper.embeddings_))\n",
                "for i, ax in enumerate(axs.flatten()):\n",
                "    ax.scatter(*aligned_mapper.embeddings_[i].T)\n",
                "    ax.axis(ax_bound)\n",
                "plt.tight_layout()\n",
                "plt.show()"
            ]
        },
        {
            "cell_type": "code",
            "execution_count": 105,
            "metadata": {},
            "outputs": [],
            "source": [
                "# saving outputs\n",
                "p2_embedding = pd.DataFrame(aligned_mapper.embeddings_[0])\n",
                "sgss_embedding = pd.DataFrame(aligned_mapper.embeddings_[1])\n",
                "css_embedding = pd.DataFrame(aligned_mapper.embeddings_[2])\n",
                "cis_embedding = pd.DataFrame(aligned_mapper.embeddings_[3])"
            ]
        },
        {
            "cell_type": "code",
            "execution_count": 106,
            "metadata": {},
            "outputs": [],
            "source": [
                "p2_embedding[['symptom_name_raw', 'symptom_name_formatted', 'category']] = p2_symptoms[['symptom', 'symptom_name_formatted', 'category']]\n",
                "sgss_embedding[['symptom_name_raw', 'symptom_name_formatted', 'category']] = sgss_symptoms[['symptom', 'symptom_name_formatted', 'category']]\n",
                "css_embedding[['symptom_name_raw', 'symptom_name_formatted', 'category']] = css_symptoms[['symptom', 'symptom_name_formatted', 'category']]\n",
                "cis_embedding[['symptom_name_raw', 'symptom_name_formatted', 'category']] = cis_symptoms[['symptom', 'symptom_name_formatted', 'category']]"
            ]
        },
        {
            "cell_type": "code",
            "execution_count": 107,
            "metadata": {},
            "outputs": [],
            "source": [
                "p2_embedding.to_csv('Data/Alignments/AlignedUMAP/CoreSymptomAlignment/P2.csv')\n",
                "sgss_embedding.to_csv('Data/Alignments/AlignedUMAP/CoreSymptomAlignment/SGSS.csv')\n",
                "css_embedding.to_csv('Data/Alignments/AlignedUMAP/CoreSymptomAlignment/CSS.csv')\n",
                "cis_embedding.to_csv('Data/Alignments/AlignedUMAP/CoreSymptomAlignment/CIS.csv')"
            ]
        }
    ],
    "metadata": {
        "interpreter": {
            "hash": "3425ee664723cd5c18592cea4a33932d68ca70e96067edda14544bf3cb99baa1"
        },
        "kernelspec": {
            "display_name": "Python 3.9.6 64-bit ('aligned-umap': conda)",
            "name": "python3"
        },
        "language_info": {
            "codemirror_mode": {
                "name": "ipython",
                "version": 3
            },
            "file_extension": ".py",
            "mimetype": "text/x-python",
            "name": "python",
            "nbconvert_exporter": "python",
            "pygments_lexer": "ipython3",
            "version": "3.9.6"
        },
        "orig_nbformat": 4
    },
    "nbformat": 4,
    "nbformat_minor": 2
}
