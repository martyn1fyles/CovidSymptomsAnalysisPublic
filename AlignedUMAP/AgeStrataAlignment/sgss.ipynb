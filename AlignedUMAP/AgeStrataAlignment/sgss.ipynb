{
    "cells": [
        {
            "cell_type": "code",
            "execution_count": 45,
            "source": [
                "import umap\r\n",
                "import numpy as np\r\n",
                "import matplotlib.pyplot as plt\r\n",
                "import pandas as pd"
            ],
            "outputs": [],
            "metadata": {}
        },
        {
            "cell_type": "code",
            "execution_count": 46,
            "source": [
                "import sys\r\n",
                "sys.path.append('..')"
            ],
            "outputs": [],
            "metadata": {}
        },
        {
            "cell_type": "markdown",
            "source": [
                "Importing the data"
            ],
            "metadata": {}
        },
        {
            "cell_type": "code",
            "execution_count": 47,
            "source": [
                "sgss_children = pd.read_csv('Data/TTI_SGSS_AgeStratified/JaccardDistanceMatrixPopulationStatsOriginSGSSBelow18.csv')\r\n",
                "sgss_adult = pd.read_csv('Data/TTI_SGSS_AgeStratified/JaccardDistanceMatrixPopulationStatsOriginSGSS18-54.csv')\r\n",
                "sgss_elder = pd.read_csv('Data/TTI_SGSS_AgeStratified/JaccardDistanceMatrixPopulationStatsOriginSGSS55Plus.csv')"
            ],
            "outputs": [],
            "metadata": {}
        },
        {
            "cell_type": "markdown",
            "source": [
                "Name the first column as the symptom columnm."
            ],
            "metadata": {}
        },
        {
            "cell_type": "code",
            "execution_count": 48,
            "source": [
                "sgss_children = sgss_children.rename({sgss_children.columns[0]: 'symptom'}, axis='columns')\r\n",
                "sgss_adult = sgss_adult.rename({sgss_adult.columns[0]: 'symptom'}, axis='columns')\r\n",
                "sgss_elder = sgss_elder.rename({sgss_elder.columns[0]: 'symptom'}, axis='columns')"
            ],
            "outputs": [],
            "metadata": {}
        },
        {
            "cell_type": "markdown",
            "source": [
                "Extract the jaccard distance matrices"
            ],
            "metadata": {}
        },
        {
            "cell_type": "code",
            "execution_count": 49,
            "source": [
                "sgss_children_jaccard = sgss_children.loc[:, sgss_children.columns != 'symptom'].values\r\n",
                "sgss_adult_jaccard = sgss_adult.loc[:, sgss_adult.columns != 'symptom'].values\r\n",
                "sgss_elder_jaccard = sgss_elder.loc[:, sgss_elder.columns != 'symptom'].values"
            ],
            "outputs": [],
            "metadata": {}
        },
        {
            "cell_type": "markdown",
            "source": [
                "Extract the symptom names"
            ],
            "metadata": {}
        },
        {
            "cell_type": "code",
            "execution_count": 50,
            "source": [
                "symptoms = sgss_children.loc[:, sgss_children.columns == 'symptom']"
            ],
            "outputs": [],
            "metadata": {}
        },
        {
            "cell_type": "markdown",
            "source": [
                "Specify a sequence of datasets, and then create a list of mappings between those datasets."
            ],
            "metadata": {}
        },
        {
            "cell_type": "code",
            "execution_count": 51,
            "source": [
                "distance_matrix_list = [sgss_children_jaccard, sgss_adult_jaccard, sgss_elder_jaccard]\r\n",
                "# create a relationship dictionary\r\n",
                "relationship_dict = {i:i for i in range(symptoms.shape[0] - 1)}\r\n",
                "n_slices = 3\r\n",
                "relationships = [relationship_dict.copy() for i in range(n_slices - 1)]"
            ],
            "outputs": [],
            "metadata": {}
        },
        {
            "cell_type": "markdown",
            "source": [
                "Perform the alignment"
            ],
            "metadata": {}
        },
        {
            "cell_type": "markdown",
            "source": [
                "## Loose embeddings alignment (focusses more on global structure and less on local structure)"
            ],
            "metadata": {}
        },
        {
            "cell_type": "code",
            "execution_count": 52,
            "source": [
                "aligned_mapper = umap.AlignedUMAP(\r\n",
                "    n_neighbors=[4, 4, 4],\r\n",
                "    min_dist = 0.001,\r\n",
                "    n_components = 2,\r\n",
                "    alignment_window_size=2,\r\n",
                "    random_state = 42,\r\n",
                "    alignment_regularisation=5e-3,\r\n",
                "    metric='precomputed')\r\n",
                "\r\n",
                "# perform the alignment\r\n",
                "aligned_mapper.fit(distance_matrix_list, relations = relationships)"
            ],
            "outputs": [
                {
                    "output_type": "stream",
                    "name": "stderr",
                    "text": [
                        "C:\\Users\\mfyles\\Anaconda3\\envs\\aligned-umap\\lib\\site-packages\\umap\\umap_.py:1768: UserWarning: using precomputed metric; inverse_transform will be unavailable\n",
                        "  warn(\"using precomputed metric; inverse_transform will be unavailable\")\n",
                        "C:\\Users\\mfyles\\Anaconda3\\envs\\aligned-umap\\lib\\site-packages\\umap\\umap_.py:1768: UserWarning: using precomputed metric; inverse_transform will be unavailable\n",
                        "  warn(\"using precomputed metric; inverse_transform will be unavailable\")\n",
                        "C:\\Users\\mfyles\\Anaconda3\\envs\\aligned-umap\\lib\\site-packages\\umap\\umap_.py:1768: UserWarning: using precomputed metric; inverse_transform will be unavailable\n",
                        "  warn(\"using precomputed metric; inverse_transform will be unavailable\")\n"
                    ]
                },
                {
                    "output_type": "execute_result",
                    "data": {
                        "text/plain": [
                            "AlignedUMAP(alignment_regularisation=0.005, alignment_window_size=2,\n",
                            "            metric='precomputed', min_dist=0.001, n_neighbors=[4, 4, 4],\n",
                            "            random_state=42)"
                        ]
                    },
                    "metadata": {},
                    "execution_count": 52
                }
            ],
            "metadata": {}
        },
        {
            "cell_type": "code",
            "execution_count": 53,
            "source": [
                "# utility function to find create some useable axis\r\n",
                "def axis_bounds(embedding):\r\n",
                "    \r\n",
                "    left, right = embedding.T[0].min(), embedding.T[0].max()\r\n",
                "    bottom, top = embedding.T[1].min(), embedding.T[1].max()\r\n",
                "    adj_h, adj_v = (right - left) * 0.1, (top - bottom) * 0.1\r\n",
                "    return [left - adj_h, right + adj_h, bottom - adj_v, top + adj_v]"
            ],
            "outputs": [],
            "metadata": {}
        },
        {
            "cell_type": "markdown",
            "source": [
                "Quickly plot the output. We have more advanced plotting code in the R visualisation notebooks that plot points and labels using size and colour, etc."
            ],
            "metadata": {}
        },
        {
            "cell_type": "code",
            "execution_count": 54,
            "source": [
                "fig, axs = plt.subplots(3, 1, figsize=(10, 5))\r\n",
                "ax_bound = axis_bounds(np.vstack(aligned_mapper.embeddings_))\r\n",
                "for i, ax in enumerate(axs.flatten()):\r\n",
                "    ax.scatter(*aligned_mapper.embeddings_[i].T)\r\n",
                "    ax.axis(ax_bound)\r\n",
                "plt.tight_layout()\r\n",
                "plt.show()"
            ],
            "outputs": [
                {
                    "output_type": "display_data",
                    "data": {
                        "image/png": "[encoded data removed]",
                        "text/plain": [
                            "<Figure size 1000x500 with 3 Axes>"
                        ]
                    },
                    "metadata": {}
                }
            ],
            "metadata": {}
        },
        {
            "cell_type": "code",
            "execution_count": 55,
            "source": [
                "# saving outputs\r\n",
                "sgss_children_embedding = pd.DataFrame(aligned_mapper.embeddings_[0])\r\n",
                "sgss_adult_embedding = pd.DataFrame(aligned_mapper.embeddings_[1])\r\n",
                "sgss_elder_embedding = pd.DataFrame(aligned_mapper.embeddings_[2])"
            ],
            "outputs": [],
            "metadata": {}
        },
        {
            "cell_type": "code",
            "execution_count": 56,
            "source": [
                "sgss_children_embedding['symptom_name_raw'] = symptoms['symptom']\r\n",
                "sgss_adult_embedding['symptom_name_raw'] = symptoms['symptom']\r\n",
                "sgss_elder_embedding['symptom_name_raw'] = symptoms['symptom']"
            ],
            "outputs": [],
            "metadata": {}
        },
        {
            "cell_type": "code",
            "execution_count": 57,
            "source": [
                "sgss_children_embedding.to_csv('Data/Alignments/AlignedUMAP/SGSS/children_loose.csv')\r\n",
                "sgss_adult_embedding.to_csv('Data/Alignments/AlignedUMAP/SGSS/adult_loose.csv')\r\n",
                "sgss_elder_embedding.to_csv('Data/Alignments/AlignedUMAP/SGSS/elder_loose.csv')"
            ],
            "outputs": [],
            "metadata": {}
        },
        {
            "cell_type": "markdown",
            "source": [
                "## Tight embedding alignment (focusses less on global structure and more on local structure)"
            ],
            "metadata": {}
        },
        {
            "cell_type": "code",
            "execution_count": 58,
            "source": [
                "aligned_mapper = umap.AlignedUMAP(\r\n",
                "    n_neighbors=[2, 2, 2],\r\n",
                "    min_dist = 0.001,\r\n",
                "    n_components = 2,\r\n",
                "    alignment_window_size=2,\r\n",
                "    random_state = 42,\r\n",
                "    alignment_regularisation=5e-3,\r\n",
                "    metric='precomputed')\r\n",
                "\r\n",
                "# perform the alignment\r\n",
                "aligned_mapper.fit(distance_matrix_list, relationss = relationships)"
            ],
            "outputs": [
                {
                    "output_type": "stream",
                    "name": "stderr",
                    "text": [
                        "C:\\Users\\mfyles\\Anaconda3\\envs\\aligned-umap\\lib\\site-packages\\umap\\umap_.py:1768: UserWarning: using precomputed metric; inverse_transform will be unavailable\n",
                        "  warn(\"using precomputed metric; inverse_transform will be unavailable\")\n",
                        "C:\\Users\\mfyles\\Anaconda3\\envs\\aligned-umap\\lib\\site-packages\\umap\\umap_.py:1768: UserWarning: using precomputed metric; inverse_transform will be unavailable\n",
                        "  warn(\"using precomputed metric; inverse_transform will be unavailable\")\n",
                        "C:\\Users\\mfyles\\Anaconda3\\envs\\aligned-umap\\lib\\site-packages\\umap\\umap_.py:1768: UserWarning: using precomputed metric; inverse_transform will be unavailable\n",
                        "  warn(\"using precomputed metric; inverse_transform will be unavailable\")\n"
                    ]
                },
                {
                    "output_type": "execute_result",
                    "data": {
                        "text/plain": [
                            "AlignedUMAP(alignment_regularisation=0.005, alignment_window_size=2,\n",
                            "            metric='precomputed', min_dist=0.001, n_neighbors=[2, 2, 2],\n",
                            "            random_state=42)"
                        ]
                    },
                    "metadata": {},
                    "execution_count": 58
                }
            ],
            "metadata": {}
        },
        {
            "cell_type": "code",
            "execution_count": 59,
            "source": [
                "# saving outputs\r\n",
                "sgss_children_embedding = pd.DataFrame(aligned_mapper.embeddings_[0])\r\n",
                "sgss_adult_embedding = pd.DataFrame(aligned_mapper.embeddings_[1])\r\n",
                "sgss_elder_embedding = pd.DataFrame(aligned_mapper.embeddings_[2])"
            ],
            "outputs": [],
            "metadata": {}
        },
        {
            "cell_type": "code",
            "execution_count": 60,
            "source": [
                "sgss_children_embedding['symptom_name_raw'] = symptoms['symptom']\r\n",
                "sgss_adult_embedding['symptom_name_raw'] = symptoms['symptom']\r\n",
                "sgss_elder_embedding['symptom_name_raw'] = symptoms['symptom']"
            ],
            "outputs": [],
            "metadata": {}
        },
        {
            "cell_type": "code",
            "execution_count": 61,
            "source": [
                "sgss_children_embedding.to_csv('Data/Alignments/AlignedUMAP/SGSS/children_tight.csv')\r\n",
                "sgss_adult_embedding.to_csv('Data/Alignments/AlignedUMAP/SGSS/adult_tight.csv')\r\n",
                "sgss_elder_embedding.to_csv('Data/Alignments/AlignedUMAP/SGSS/elder_tight.csv')"
            ],
            "outputs": [],
            "metadata": {}
        }
    ],
    "metadata": {
        "orig_nbformat": 4,
        "language_info": {
            "name": "python",
            "version": "3.9.6",
            "mimetype": "text/x-python",
            "codemirror_mode": {
                "name": "ipython",
                "version": 3
            },
            "pygments_lexer": "ipython3",
            "nbconvert_exporter": "python",
            "file_extension": ".py"
        },
        "kernelspec": {
            "name": "python3",
            "display_name": "Python 3.9.6 64-bit ('aligned-umap': conda)"
        },
        "interpreter": {
            "hash": "3425ee664723cd5c18592cea4a33932d68ca70e96067edda14544bf3cb99baa1"
        }
    },
    "nbformat": 4,
    "nbformat_minor": 2
}